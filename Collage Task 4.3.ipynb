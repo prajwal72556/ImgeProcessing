{
 "cells": [
  {
   "cell_type": "code",
   "execution_count": null,
   "metadata": {},
   "outputs": [],
   "source": [
    "#🔅 Task 4.3\n",
    "#📌 Take 2 image and combine it to form collage. \n"
   ]
  },
  {
   "cell_type": "code",
   "execution_count": 17,
   "metadata": {},
   "outputs": [],
   "source": [
    "#Opening photo 1\n",
    "\n",
    "\n",
    "import cv2\n",
    "#photo=cv2.imread(\"pphoto.jpg\")\n",
    "photo=cv2.imread(\"oggy.jpg\")\n",
    "cv2.imshow(\"oggy\",photo)\n",
    "cv2.waitKey()\n",
    "cv2.destroyAllWindows()"
   ]
  },
  {
   "cell_type": "code",
   "execution_count": 18,
   "metadata": {},
   "outputs": [],
   "source": [
    "#Opening photo 2\n",
    "\n",
    "\n",
    "photo2=cv2.imread(\"cockroaches.jpg\")\n",
    "cv2.imshow(\"cockroaches\",photo2)\n",
    "cv2.waitKey()\n",
    "cv2.destroyAllWindows()\n"
   ]
  },
  {
   "cell_type": "code",
   "execution_count": 14,
   "metadata": {},
   "outputs": [],
   "source": [
    "#photo2=photo2[0:752,:]             # making same no of rows as that of photo "
   ]
  },
  {
   "cell_type": "code",
   "execution_count": 19,
   "metadata": {},
   "outputs": [],
   "source": [
    "#Clubbing both photos horizontally\n",
    "\n",
    "import numpy\n",
    "clubbed_photo=numpy.hstack((photo,photo2))"
   ]
  },
  {
   "cell_type": "code",
   "execution_count": 20,
   "metadata": {},
   "outputs": [],
   "source": [
    "#Opening Clubbed Photo\n",
    "\n",
    "cv2.imshow(\"hii\",clubbed_photo)\n",
    "cv2.waitKey()\n",
    "cv2.destroyAllWindows()"
   ]
  },
  {
   "cell_type": "code",
   "execution_count": null,
   "metadata": {},
   "outputs": [],
   "source": []
  }
 ],
 "metadata": {
  "kernelspec": {
   "display_name": "Python 3",
   "language": "python",
   "name": "python3"
  },
  "language_info": {
   "codemirror_mode": {
    "name": "ipython",
    "version": 3
   },
   "file_extension": ".py",
   "mimetype": "text/x-python",
   "name": "python",
   "nbconvert_exporter": "python",
   "pygments_lexer": "ipython3",
   "version": "3.8.5"
  }
 },
 "nbformat": 4,
 "nbformat_minor": 4
}
