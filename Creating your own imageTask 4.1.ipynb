{
 "cells": [
  {
   "cell_type": "code",
   "execution_count": 31,
   "metadata": {},
   "outputs": [],
   "source": [
    "#🔅 Task 4.1Create image by\n",
    "#📌  yourself Using Python Code "
   ]
  },
  {
   "cell_type": "code",
   "execution_count": 34,
   "metadata": {},
   "outputs": [],
   "source": [
    "import numpy as np\n",
    "import cv2\n",
    "my_img = np.zeros((350, 350,3))\n",
    "cv2.rectangle(my_img,(10,340),(340,10),(0,255,0),5)\n",
    "#cv2.line(my_img, (202, 220), (100, 160), (0, 20, 200), 10)\n",
    "cv2.circle(my_img,(175,70),60,(0, 20, 200), 5)\n",
    "cv2.line(my_img, (175,130), (10,300), (0, 20, 200), 5)\n",
    "cv2.line(my_img, (175,130), (340,300), (0, 20, 200), 5)\n",
    "cv2.line(my_img, (10,300), (340,300), (0, 20, 200), 5)\n",
    "cv2.circle(my_img,(145,70),2,(0, 20, 200), 5)\n",
    "cv2.circle(my_img,(210,70),2,(0, 20, 200), 5)\n",
    "cv2.line(my_img, (175,70), (175,100), (0, 20, 200), 5)\n",
    "cv2.rectangle(my_img,(200,300),(150,340),(0,165,255) ,5)\n",
    "\n",
    "cv2.imshow('Window', my_img)\n",
    "cv2.waitKey(0)\n",
    "cv2.destroyAllWindows()"
   ]
  },
  {
   "cell_type": "code",
   "execution_count": null,
   "metadata": {},
   "outputs": [],
   "source": []
  }
 ],
 "metadata": {
  "kernelspec": {
   "display_name": "Python 3",
   "language": "python",
   "name": "python3"
  },
  "language_info": {
   "codemirror_mode": {
    "name": "ipython",
    "version": 3
   },
   "file_extension": ".py",
   "mimetype": "text/x-python",
   "name": "python",
   "nbconvert_exporter": "python",
   "pygments_lexer": "ipython3",
   "version": "3.8.5"
  }
 },
 "nbformat": 4,
 "nbformat_minor": 5
}
